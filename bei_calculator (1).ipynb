{
  "nbformat": 4,
  "nbformat_minor": 0,
  "metadata": {
    "colab": {
      "provenance": []
    },
    "kernelspec": {
      "name": "python3",
      "display_name": "Python 3"
    },
    "language_info": {
      "name": "python"
    }
  },
  "cells": [
    {
      "cell_type": "code",
      "source": [
        "def get_marks(semester,total):\n",
        "    return float(input(f\"Enter your total marks in {semester} semester out of {total}: \"))\n",
        "\n",
        "def calculate_percentage(marks, total):\n",
        "    return marks / total\n",
        "\n",
        "def main():\n",
        "    semesters = {\n",
        "        \"first\": 775,\n",
        "        \"second\": 750,\n",
        "        \"third\": 700,\n",
        "        \"fourth\": 775,\n",
        "        \"fifth\": 775,\n",
        "        \"sixth\": 825,\n",
        "        \"seventh\": 775,\n",
        "        \"eighth\": 675\n",
        "    }\n",
        "\n",
        "    weights = {\n",
        "        \"first\": 0.10,\n",
        "        \"second\": 0.10,\n",
        "        \"third\": 0.10,\n",
        "        \"fourth\": 0.10,\n",
        "        \"fifth\": 0.15,\n",
        "        \"sixth\": 0.15,\n",
        "        \"seventh\": 0.15,\n",
        "        \"eighth\": 0.15\n",
        "    }\n",
        "\n",
        "    total_percentage = 0\n",
        "\n",
        "    for semester, total_marks in semesters.items():\n",
        "        marks = get_marks(semester,total_marks)\n",
        "        percentage = calculate_percentage(marks, total_marks)\n",
        "        weighted_percentage = percentage * 100 * weights[semester]\n",
        "        total_percentage += weighted_percentage\n",
        "\n",
        "    print(f\"Your final percentage is: {total_percentage:.2f}%\")\n",
        "\n",
        "if __name__ == \"__main__\":\n",
        "    main()\n"
      ],
      "metadata": {
        "colab": {
          "base_uri": "https://localhost:8080/"
        },
        "id": "S3_ALQD9mv4M",
        "outputId": "059350e4-403a-4c8d-eff8-83db59ab6bce"
      },
      "execution_count": 24,
      "outputs": [
        {
          "output_type": "stream",
          "name": "stdout",
          "text": [
            "Enter your total marks in first semester out of 775: 620\n",
            "Enter your total marks in second semester out of 750: 520\n",
            "Enter your total marks in third semester out of 700: 500\n",
            "Enter your total marks in fourth semester out of 775: 510\n",
            "Enter your total marks in fifth semester out of 775: 520\n",
            "Enter your total marks in sixth semester out of 825: 520\n",
            "Enter your total marks in seventh semester out of 775: 540\n",
            "Enter your total marks in eighth semester out of 675: 500\n",
            "Your final percentage is: 69.74%\n"
          ]
        }
      ]
    },
    {
      "cell_type": "code",
      "source": [
        "\\6"
      ],
      "metadata": {
        "id": "bN9XAdUDqqU9"
      },
      "execution_count": null,
      "outputs": []
    }
  ]
}