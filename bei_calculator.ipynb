{
  "nbformat": 4,
  "nbformat_minor": 0,
  "metadata": {
    "colab": {
      "provenance": []
    },
    "kernelspec": {
      "name": "python3",
      "display_name": "Python 3"
    },
    "language_info": {
      "name": "python"
    }
  },
  "cells": [
    {
      "cell_type": "code",
      "execution_count": 2,
      "metadata": {
        "colab": {
          "base_uri": "https://localhost:8080/"
        },
        "id": "SEPJeOlRcoap",
        "outputId": "49255459-6f5b-46a1-c52d-cc67202870ff"
      },
      "outputs": [
        {
          "name": "stdout",
          "output_type": "stream",
          "text": [
            "Enter your total marks in first semester out of 775 521\n",
            "Enter your total marks in second semester out of 750 497\n",
            "Enter your total marks in third semester out of 700 399\n",
            "Enter your total marks in fourth semester out of 775 582\n",
            "Enter your total marks in fifth semester out of 775 516\n",
            "Enter your total marks in sixth semester out of 825 573\n",
            "Enter your total marks in seventh semester out of 775 545\n",
            "Enter your total marks in eighth semester out of 675 513\n"
          ]
        }
      ],
      "source": [
        "first=input(\"Enter your total marks in first semester out of 775: \")\n",
        "second=input(\"Enter your total marks in second semester out of 750: \")\n",
        "third=input(\"Enter your total marks in third semester out of 700: \")\n",
        "fourth=input(\"Enter your total marks in fourth semester out of 775: \")\n",
        "fifth=input(\"Enter your total marks in fifth semester out of 775: \")\n",
        "sixth=input(\"Enter your total marks in sixth semester out of 825: \")\n",
        "seventh=input(\"Enter your total marks in seventh semester out of 775: \")\n",
        "eight=input(\"Enter your total marks in eighth semester out of 675: \")\n"
      ]
    },
    {
      "cell_type": "code",
      "source": [
        "firstp=float(first)/7.75\n",
        "secondp=float(second)/7.50\n",
        "thirdp=float(third)/7.00\n",
        "fourthp=float(fourth)/7.75\n",
        "fifthp=float(fifth)/7.75\n",
        "sixthp=float(sixth)/8.25\n",
        "seventhp=float(seventh)/7.75\n",
        "eightp=float(eight)/6.75"
      ],
      "metadata": {
        "id": "zLjp80Hwjt52"
      },
      "execution_count": 4,
      "outputs": []
    },
    {
      "cell_type": "code",
      "source": [
        "print(sixthp)"
      ],
      "metadata": {
        "colab": {
          "base_uri": "https://localhost:8080/"
        },
        "id": "FsYxSHnSl0A1",
        "outputId": "33e4bb89-1632-4418-b210-d536ab8f35b6"
      },
      "execution_count": 14,
      "outputs": [
        {
          "output_type": "stream",
          "name": "stdout",
          "text": [
            "69.45454545454545\n"
          ]
        }
      ]
    },
    {
      "cell_type": "code",
      "source": [
        "finalp=firstp*10/100+secondp*10/100+thirdp*10/100+fourthp*10/100+fifthp*15/100+sixthp*15/100+seventhp*15/100+eightp*15/100"
      ],
      "metadata": {
        "id": "LwSkCl5zmEAb"
      },
      "execution_count": 15,
      "outputs": []
    },
    {
      "cell_type": "code",
      "source": [
        "print(finalp)"
      ],
      "metadata": {
        "colab": {
          "base_uri": "https://localhost:8080/"
        },
        "id": "2-6lKsDrmume",
        "outputId": "f6fba9d6-be24-4391-d58e-99380b27b93c"
      },
      "execution_count": 16,
      "outputs": [
        {
          "output_type": "stream",
          "name": "stdout",
          "text": [
            "68.91259042033235\n"
          ]
        }
      ]
    },
    {
      "cell_type": "code",
      "source": [],
      "metadata": {
        "id": "S3_ALQD9mv4M"
      },
      "execution_count": null,
      "outputs": []
    }
  ]
}